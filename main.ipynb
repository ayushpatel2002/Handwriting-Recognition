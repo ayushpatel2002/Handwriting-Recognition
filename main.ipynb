{
 "cells": [
  {
   "cell_type": "code",
   "execution_count": 1,
   "metadata": {},
   "outputs": [],
   "source": [
    "# pip install numpy, tensorflow, keras, pillow\n"
   ]
  },
  {
   "cell_type": "markdown",
   "metadata": {},
   "source": [
    "<h1>1. Import the libraries and load the dataset</h1>\n",
    "First, we are going to import all the modules that we are going to need for training our model. The Keras library already contains some datasets and MNIST is one of them. So we can easily import the dataset and start working with it. The mnist.load_data() method returns us the training data, its labels and also the testing data and its labels."
   ]
  },
  {
   "cell_type": "code",
   "execution_count": 2,
   "metadata": {},
   "outputs": [],
   "source": [
    "# Importing necessary libraries for model training and GUI creation\n",
    "\n",
    "import numpy as np\n",
    "import tensorflow as tf\n",
    "from tensorflow.keras import layers, models\n",
    "from tensorflow.keras.datasets import mnist\n",
    "\n",
    "# Libraries for GUI\n",
    "import tkinter as tk\n",
    "from tkinter import Canvas\n",
    "from PIL import Image, ImageDraw"
   ]
  },
  {
   "cell_type": "markdown",
   "metadata": {},
   "source": [
    "<h1> 2. Loading and Pre-processing the Data"
   ]
  },
  {
   "cell_type": "code",
   "execution_count": 3,
   "metadata": {},
   "outputs": [],
   "source": [
    "# Loading and preprocessing the MNIST dataset\n",
    "\n",
    "(train_images, train_labels), (test_images, test_labels) = mnist.load_data()\n",
    "\n",
    "train_images = train_images.reshape((60000, 28, 28, 1))\n",
    "train_images = train_images.astype('float32') / 255\n",
    "\n",
    "test_images = test_images.reshape((10000, 28, 28, 1))\n",
    "test_images = test_images.astype('float32') / 255\n",
    "\n",
    "train_labels = tf.keras.utils.to_categorical(train_labels)\n",
    "test_labels = tf.keras.utils.to_categorical(test_labels)"
   ]
  },
  {
   "cell_type": "markdown",
   "metadata": {},
   "source": [
    "<h1>3. Create the model</h1>\n",
    "Now we will create our CNN model in Python data science project. A CNN model generally consists of convolutional and pooling layers. It works better for data that are represented as grid structures, this is the reason why CNN works well for image classification problems. The dropout layer is used to deactivate some of the neurons and while training, it reduces offer fitting of the model. We will then compile the model with the Adadelta optimizer."
   ]
  },
  {
   "cell_type": "code",
   "execution_count": 4,
   "metadata": {},
   "outputs": [
    {
     "name": "stdout",
     "output_type": "stream",
     "text": [
      "Epoch 1/5\n",
      "938/938 [==============================] - 8s 9ms/step - loss: 0.1940 - accuracy: 0.9404\n",
      "Epoch 2/5\n",
      "938/938 [==============================] - 9s 9ms/step - loss: 0.0515 - accuracy: 0.9844\n",
      "Epoch 3/5\n",
      "938/938 [==============================] - 10s 11ms/step - loss: 0.0358 - accuracy: 0.9889\n",
      "Epoch 4/5\n",
      "938/938 [==============================] - 10s 11ms/step - loss: 0.0290 - accuracy: 0.9910\n",
      "Epoch 5/5\n",
      "938/938 [==============================] - 10s 11ms/step - loss: 0.0236 - accuracy: 0.9924\n"
     ]
    },
    {
     "data": {
      "text/plain": [
       "<keras.src.callbacks.History at 0x29fceb160>"
      ]
     },
     "execution_count": 4,
     "metadata": {},
     "output_type": "execute_result"
    }
   ],
   "source": [
    "# Building the CNN model\n",
    "\n",
    "model = models.Sequential()\n",
    "model.add(layers.Conv2D(32, (3, 3), activation='relu', input_shape=(28, 28, 1)))\n",
    "model.add(layers.MaxPooling2D((2, 2)))\n",
    "model.add(layers.Conv2D(64, (3, 3), activation='relu'))\n",
    "model.add(layers.MaxPooling2D((2, 2)))\n",
    "model.add(layers.Conv2D(64, (3, 3), activation='relu'))\n",
    "\n",
    "model.add(layers.Flatten())\n",
    "model.add(layers.Dense(64, activation='relu'))\n",
    "model.add(layers.Dense(10, activation='softmax'))\n",
    "\n",
    "# Compiling the model\n",
    "model.compile(optimizer='adam',\n",
    "              loss='categorical_crossentropy',\n",
    "              metrics=['accuracy'])\n",
    "\n",
    "# Training the model\n",
    "model.fit(train_images, train_labels, epochs=5, batch_size=64)\n",
    "\n",
    "# Optionally, save the model for later use\n",
    "# model.save('mnist_model.h5')\n"
   ]
  },
  {
   "cell_type": "markdown",
   "metadata": {},
   "source": [
    "<h1>Evaluate the model</h1>\n",
    "We have 10,000 images in our dataset which will be used to evaluate how good our model works. The testing data was not involved in the training of the data therefore, it is new data for our model. The MNIST dataset is well balanced so we can get around 99% accuracy."
   ]
  },
  {
   "cell_type": "code",
   "execution_count": 5,
   "metadata": {},
   "outputs": [
    {
     "name": "stdout",
     "output_type": "stream",
     "text": [
      "313/313 [==============================] - 1s 4ms/step - loss: 0.0321 - accuracy: 0.9903\n",
      "Test accuracy: 99.03%\n"
     ]
    }
   ],
   "source": [
    "# Evaluating model accuracy on the test dataset\n",
    "\n",
    "test_loss, test_acc = model.evaluate(test_images, test_labels)\n",
    "print(f\"Test accuracy: {test_acc*100:.2f}%\")"
   ]
  },
  {
   "cell_type": "markdown",
   "metadata": {},
   "source": [
    "<h1>Create GUI to predict digits</h1>\n",
    "Need to run the 'gui_digit_recognizer.py' through command line"
   ]
  },
  {
   "cell_type": "code",
   "execution_count": 7,
   "metadata": {},
   "outputs": [
    {
     "name": "stdout",
     "output_type": "stream",
     "text": [
      "1/1 [==============================] - 0s 51ms/step\n",
      "1/1 [==============================] - 0s 13ms/step\n",
      "1/1 [==============================] - 0s 14ms/step\n",
      "1/1 [==============================] - 0s 10ms/step\n",
      "1/1 [==============================] - 0s 11ms/step\n",
      "1/1 [==============================] - 0s 12ms/step\n",
      "1/1 [==============================] - 0s 13ms/step\n"
     ]
    },
    {
     "ename": "SystemExit",
     "evalue": "0",
     "output_type": "error",
     "traceback": [
      "An exception has occurred, use %tb to see the full traceback.\n",
      "\u001b[0;31mSystemExit\u001b[0m\u001b[0;31m:\u001b[0m 0\n"
     ]
    },
    {
     "name": "stderr",
     "output_type": "stream",
     "text": [
      "/Users/ayushpatel/Library/Python/3.9/lib/python/site-packages/IPython/core/interactiveshell.py:3516: UserWarning: To exit: use 'exit', 'quit', or Ctrl-D.\n",
      "  warn(\"To exit: use 'exit', 'quit', or Ctrl-D.\", stacklevel=1)\n"
     ]
    },
    {
     "ename": "",
     "evalue": "",
     "output_type": "error",
     "traceback": [
      "\u001b[1;31mThe Kernel crashed while executing code in the the current cell or a previous cell. Please review the code in the cell(s) to identify a possible cause of the failure. Click <a href='https://aka.ms/vscodeJupyterKernelCrash'>here</a> for more info. View Jupyter <a href='command:jupyter.viewOutput'>log</a> for further details."
     ]
    }
   ],
   "source": [
    "# GUI for digit recognition\n",
    "\n",
    "import tkinter as tk\n",
    "from tkinter import Canvas\n",
    "from PIL import Image, ImageDraw\n",
    "\n",
    "class DigitRecognizer(tk.Tk):\n",
    "    def __init__(self, model):\n",
    "        super().__init__()\n",
    "\n",
    "        self.model = model\n",
    "        self.canvas_width = 280\n",
    "        self.canvas_height = 280\n",
    "        self.pen_width = 15\n",
    "        self.initialize_ui()\n",
    "\n",
    "    def initialize_ui(self):\n",
    "        self.canvas = Canvas(self, width=self.canvas_width, height=self.canvas_height, bg=\"white\")\n",
    "        self.canvas.pack(pady=20)\n",
    "\n",
    "        self.canvas.bind(\"<B1-Motion>\", self.paint)\n",
    "\n",
    "        clear_button = tk.Button(self, text=\"Clear Canvas\", command=self.clear_canvas)\n",
    "        clear_button.pack(pady=20)\n",
    "\n",
    "        recognize_button = tk.Button(self, text=\"Recognize Digit\", command=self.recognize_digit)\n",
    "        recognize_button.pack(pady=20)\n",
    "\n",
    "        self.label = tk.Label(self, text=\"Draw a digit...\", font=(\"Helvetica\", 16))\n",
    "        self.label.pack(pady=20)\n",
    "\n",
    "    def paint(self, event):\n",
    "        x, y = event.x, event.y\n",
    "        self.canvas.create_oval((x, y, x + self.pen_width, y + self.pen_width), fill=\"black\", width=0)\n",
    "\n",
    "    def clear_canvas(self):\n",
    "        self.canvas.delete(\"all\")\n",
    "\n",
    "    def recognize_digit(self):\n",
    "        # Get the canvas content as an image\n",
    "        canvas_image = Image.new(\"RGB\", (self.canvas_width, self.canvas_height), \"white\")\n",
    "        draw = ImageDraw.Draw(canvas_image)\n",
    "        for item in self.canvas.find_all():\n",
    "            x0, y0, x1, y1 = self.canvas.coords(item)\n",
    "            draw.ellipse([x0, y0, x1, y1], fill=\"black\")\n",
    "\n",
    "        digit, confidence = self.predict_digit(canvas_image)\n",
    "        self.label.config(text=f\"Predicted Digit: {digit} (Confidence: {confidence:.2f}%)\")\n",
    "\n",
    "    def predict_digit(self, img):\n",
    "        img = img.resize((28, 28))\n",
    "        img = img.convert('L')\n",
    "        img = np.array(img)\n",
    "        img = img.reshape(1, 28, 28, 1)\n",
    "        img = img / 255.0\n",
    "        prediction = self.model.predict([img])[0]\n",
    "        return np.argmax(prediction), max(prediction) * 100\n",
    "\n",
    "# Running the GUI\n",
    "app = DigitRecognizer(model)\n",
    "app.title(\"Handwritten Digit Recognizer\")\n",
    "app.mainloop()"
   ]
  },
  {
   "cell_type": "code",
   "execution_count": null,
   "metadata": {},
   "outputs": [],
   "source": [
    "# from keras.models import load_model\n",
    "# from tkinter import *\n",
    "# import tkinter as tk\n",
    "# # import win32gui\n",
    "# from PIL import ImageGrab, Image\n",
    "# import numpy as np\n",
    "\n",
    "# model = load_model('mnist.h5')\n",
    "\n",
    "# def predict_digit(img):\n",
    "#     #resize image to 28x28 pixels\n",
    "#     img = img.resize((28,28))\n",
    "#     #convert rgb to grayscale\n",
    "#     img = img.convert('L')\n",
    "#     img = np.array(img)\n",
    "#     #reshaping to support our model input and normalizing\n",
    "#     img = img.reshape(1,28,28,1)\n",
    "#     img = img/255.0\n",
    "#     #predicting the class\n",
    "#     res = model.predict([img])[0]\n",
    "#     return np.argmax(res), max(res)\n",
    "\n",
    "# class App(tk.Tk):\n",
    "#     def __init__(self):\n",
    "#         tk.Tk.__init__(self)\n",
    "\n",
    "#         self.x = self.y = 0\n",
    "\n",
    "#         # Creating elements\n",
    "#         self.canvas = tk.Canvas(self, width=300, height=300, bg = \"white\", cursor=\"cross\")\n",
    "#         self.label = tk.Label(self, text=\"Thinking..\", font=(\"Helvetica\", 48))\n",
    "#         self.classify_btn = tk.Button(self, text = \"Recognise\", command =         self.classify_handwriting) \n",
    "#         self.button_clear = tk.Button(self, text = \"Clear\", command = self.clear_all)\n",
    "\n",
    "#         # Grid structure\n",
    "#         self.canvas.grid(row=0, column=0, pady=2, sticky=W, )\n",
    "#         self.label.grid(row=0, column=1,pady=2, padx=2)\n",
    "#         self.classify_btn.grid(row=1, column=1, pady=2, padx=2)\n",
    "#         self.button_clear.grid(row=1, column=0, pady=2)\n",
    "\n",
    "#         #self.canvas.bind(\"<Motion>\", self.start_pos)\n",
    "#         self.canvas.bind(\"<B1-Motion>\", self.draw_lines)\n",
    "\n",
    "#     def clear_all(self):\n",
    "#         self.canvas.delete(\"all\")\n",
    "\n",
    "#     def classify_handwriting(self):\n",
    "#         HWND = self.canvas.winfo_id() # get the handle of the canvas\n",
    "#         rect = tk.GetWindowRect(HWND) # get the coordinate of the canvas\n",
    "#         im = ImageGrab.grab(rect)\n",
    "\n",
    "#         digit, acc = predict_digit(im)\n",
    "#         self.label.configure(text= str(digit)+', '+ str(int(acc*100))+'%')\n",
    "\n",
    "#     def draw_lines(self, event):\n",
    "#         self.x = event.x\n",
    "#         self.y = event.y\n",
    "#         r=8\n",
    "#         self.canvas.create_oval(self.x-r, self.y-r, self.x + r, self.y + r, fill='black')\n",
    "\n",
    "# app = App()\n",
    "# mainloop()"
   ]
  },
  {
   "cell_type": "code",
   "execution_count": null,
   "metadata": {},
   "outputs": [],
   "source": []
  }
 ],
 "metadata": {
  "kernelspec": {
   "display_name": "Python 3",
   "language": "python",
   "name": "python3"
  },
  "language_info": {
   "codemirror_mode": {
    "name": "ipython",
    "version": 3
   },
   "file_extension": ".py",
   "mimetype": "text/x-python",
   "name": "python",
   "nbconvert_exporter": "python",
   "pygments_lexer": "ipython3",
   "version": "3.9.6"
  }
 },
 "nbformat": 4,
 "nbformat_minor": 2
}
